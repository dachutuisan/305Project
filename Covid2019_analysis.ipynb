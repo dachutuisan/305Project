{
 "cells": [
  {
   "cell_type": "code",
   "execution_count": 2,
   "metadata": {
    "ExecuteTime": {
     "end_time": "2020-05-20T17:34:51.093804Z",
     "start_time": "2020-05-20T17:34:51.068374Z"
    }
   },
   "outputs": [],
   "source": [
    "#import packages\n",
    "import requests\n",
    "import pandas as pd\n",
    "import time\n",
    "import json\n",
    "pd.set_option('max_rows',500)\n",
    "import pyecharts\n",
    "import pyecharts.options as opts\n",
    "from pyecharts.charts import *\n",
    "import matplotlib.pyplot as plt\n",
    "plt.rcParams['font.sans-serif'] = ['STHeiti']\n",
    "plt.rcParams['axes.unicode_minus'] = False\n",
    "plt.rcParams['figure.dpi'] = 100"
   ]
  },
  {
   "cell_type": "markdown",
   "metadata": {
    "heading_collapsed": true
   },
   "source": [
    "## 爬取数据"
   ]
  },
  {
   "cell_type": "code",
   "execution_count": 2,
   "metadata": {
    "ExecuteTime": {
     "end_time": "2020-05-20T15:29:57.336171Z",
     "start_time": "2020-05-20T15:29:57.051196Z"
    },
    "hidden": true
   },
   "outputs": [],
   "source": [
    "headers={'user-agent': 'Mozilla/5.0 (Windows NT 10.0; Win64; x64) AppleWebKit/537.36 (KHTML, like Gecko) Chrome/80.0.3987.122 Safari/537.36'}\n",
    "url = 'https://c.m.163.com/ug/api/wuhan/app/data/list-total'\n",
    "r = requests.get(url , headers=headers)\n",
    "data_json = json.loads(r.text)\n",
    "data = data_json['data']"
   ]
  },
  {
   "cell_type": "code",
   "execution_count": 3,
   "metadata": {
    "ExecuteTime": {
     "end_time": "2020-05-20T15:29:58.959032Z",
     "start_time": "2020-05-20T15:29:58.952424Z"
    },
    "hidden": true
   },
   "outputs": [],
   "source": [
    "def get_data(data, info_list):\n",
    "    info = pd.DataFrame(data)[info_list]  # 主要信息\n",
    "\n",
    "    today_data = pd.DataFrame([i['today'] for i in data])  # 生成today的数据\n",
    "    today_data.columns = ['today_' + i for i in today_data.columns]  # 修改列名\n",
    "\n",
    "    total_data = pd.DataFrame([i['total'] for i in data])  # 生成total的数据\n",
    "    total_data.columns = ['total_' + i for i in total_data.columns]  # 修改列名\n",
    "\n",
    "    return pd.concat([info, total_data, today_data], axis=1)  # info、today和total横向合并最终得到汇总的数据\n",
    "\n",
    "def save_data(data,name): # 定义保存数据方法\n",
    "    file_name = './data/' + name+'_'+time.strftime('%Y_%m_%d',time.localtime(time.time()))+'.csv'\n",
    "    data.to_csv(file_name,index=None,encoding='utf_8_sig')\n",
    "    print(file_name+' 保存成功！')"
   ]
  },
  {
   "cell_type": "code",
   "execution_count": 4,
   "metadata": {
    "ExecuteTime": {
     "end_time": "2020-05-20T15:30:03.719639Z",
     "start_time": "2020-05-20T15:30:03.716908Z"
    },
    "hidden": true
   },
   "outputs": [
    {
     "name": "stdout",
     "output_type": "stream",
     "text": [
      "./data/today_province_2020_06_29.csv 保存成功！\n",
      "./data/today_world_2020_06_29.csv 保存成功！\n",
      "./data/alltime_China_2020_06_29.csv 保存成功！\n"
     ]
    }
   ],
   "source": [
    "# 保存每日省份数据\n",
    "data_province = data['areaTree'][2]['children']\n",
    "today_province = get_data(data_province,['id','lastUpdateTime','name'])\n",
    "save_data(today_province,'today_province')\n",
    "# 保存每日世界数据\n",
    "areaTree = data['areaTree'] # 取出areaTree\n",
    "today_world = get_data(areaTree,['id','lastUpdateTime','name'])\n",
    "save_data(today_world,'today_world')\n",
    "# 保存中国每日的数据\n",
    "chinaDayList = data['chinaDayList'] # 取出chinaDayList\n",
    "alltime_China = get_data(chinaDayList,['date','lastUpdateTime'])\n",
    "save_data(alltime_China,'alltime_China')"
   ]
  },
  {
   "cell_type": "code",
   "execution_count": null,
   "metadata": {
    "ExecuteTime": {
     "end_time": "2020-05-20T15:30:04.587556Z",
     "start_time": "2020-05-20T15:30:04.584175Z"
    },
    "hidden": true
   },
   "outputs": [
    {
     "name": "stdout",
     "output_type": "stream",
     "text": [
      "-------------------- 突尼斯 成功 (103, 15) (103, 15) ,累计耗时: 0 --------------------\n",
      "-------------------- 塞尔维亚 成功 (108, 15) (211, 15) ,累计耗时: 10 --------------------\n",
      "-------------------- 中国 成功 (144, 15) (355, 15) ,累计耗时: 21 --------------------\n",
      "-------------------- 日本 成功 (135, 15) (490, 15) ,累计耗时: 31 --------------------\n",
      "-------------------- 泰国 成功 (119, 15) (609, 15) ,累计耗时: 41 --------------------\n",
      "-------------------- 泰国 wrong --------------------\n",
      "-------------------- 新加坡 成功 (136, 15) (745, 15) ,累计耗时: 51 --------------------\n",
      "-------------------- 韩国 成功 (159, 15) (904, 15) ,累计耗时: 61 --------------------\n",
      "-------------------- 澳大利亚 成功 (118, 15) (1022, 15) ,累计耗时: 72 --------------------\n",
      "-------------------- 德国 成功 (125, 15) (1147, 15) ,累计耗时: 82 --------------------\n",
      "-------------------- 美国 成功 (130, 15) (1277, 15) ,累计耗时: 92 --------------------\n",
      "-------------------- 马来西亚 成功 (122, 15) (1399, 15) ,累计耗时: 102 --------------------\n",
      "-------------------- 越南 成功 (93, 15) (1492, 15) ,累计耗时: 112 --------------------\n",
      "-------------------- 圣巴泰勒米 成功 (30, 15) (1522, 15) ,累计耗时: 123 --------------------\n",
      "-------------------- 肯尼亚 成功 (97, 15) (1619, 15) ,累计耗时: 133 --------------------\n",
      "-------------------- 伊朗 成功 (130, 15) (1749, 15) ,累计耗时: 143 --------------------\n",
      "-------------------- 以色列 成功 (122, 15) (1871, 15) ,累计耗时: 153 --------------------\n",
      "-------------------- 毛利亚尼亚 成功 (12, 15) (1883, 15) ,累计耗时: 164 --------------------\n"
     ]
    }
   ],
   "source": [
    "#获得各个国家历史数据\n",
    "country_dict = { key:value for key,value in zip(today_world['id'], today_world['name'])}\n",
    "start = time.time()\n",
    "for country_id in country_dict:  # 遍历每个国家的编号\n",
    "\n",
    "    try:\n",
    "        # 按照编号访问每个国家的数据地址，并获取json数据\n",
    "        url = 'https://c.m.163.com/ug/api/wuhan/app/data/list-by-area-code?areaCode=' + country_id\n",
    "        r = requests.get(url, headers=headers)\n",
    "        json_data = json.loads(r.text)\n",
    "\n",
    "        # 生成每个国家的数据\n",
    "        country_data = get_data(json_data['data']['list'], ['date'])\n",
    "        country_data['name'] = country_dict[country_id]\n",
    "\n",
    "        # 数据叠加\n",
    "        if country_id == '9577772':\n",
    "            alltime_world = country_data\n",
    "        else:\n",
    "            alltime_world = pd.concat([alltime_world, country_data])\n",
    "\n",
    "        print('-' * 20, country_dict[country_id], '成功', country_data.shape, alltime_world.shape,\n",
    "              ',累计耗时:', round(time.time() - start), '-' * 20)\n",
    "\n",
    "        time.sleep(10)\n",
    "\n",
    "    except:\n",
    "        print('-' * 20, country_dict[country_id], 'wrong', '-' * 20)\n",
    "save_data(alltime_world,'alltime_world')"
   ]
  },
  {
   "cell_type": "code",
   "execution_count": null,
   "metadata": {
    "ExecuteTime": {
     "end_time": "2020-05-20T15:30:13.325840Z",
     "start_time": "2020-05-20T15:30:13.322146Z"
    },
    "hidden": true
   },
   "outputs": [],
   "source": [
    "# 保存各省历史数据\n",
    "province_dict = {num:name for num,name in zip(today_province['id'],today_province['name'])}\n",
    "\n",
    "start = time.time()\n",
    "for province_id in province_dict:  # 遍历各省编号\n",
    "\n",
    "    try:\n",
    "        # 按照省编号访问每个省的数据地址，并获取json数据\n",
    "        url = 'https://c.m.163.com/ug/api/wuhan/app/data/list-by-area-code?areaCode=' + province_id\n",
    "        r = requests.get(url, headers=headers)\n",
    "        data_json = json.loads(r.text)\n",
    "\n",
    "        # 提取各省数据，然后写入各省名称\n",
    "        province_data = get_data(data_json['data']['list'], ['date'])\n",
    "        province_data['name'] = province_dict[province_id]\n",
    "\n",
    "        # 合并数据\n",
    "        if province_id == '420000':\n",
    "            alltime_province = province_data\n",
    "        else:\n",
    "            alltime_province = pd.concat([alltime_province, province_data])\n",
    "\n",
    "        print('-' * 20, province_dict[province_id], '成功',\n",
    "              province_data.shape, alltime_province.shape,\n",
    "              ',累计耗时:', round(time.time() - start), '-' * 20)\n",
    "\n",
    "        # 设置延迟等待\n",
    "        time.sleep(10)\n",
    "\n",
    "    except:\n",
    "        print('-' * 20, province_dict[province_id], 'wrong', '-' * 20)\n",
    "save_data(alltime_province,'alltime_province')"
   ]
  },
  {
   "cell_type": "markdown",
   "metadata": {},
   "source": [
    "## 数据可视化"
   ]
  },
  {
   "cell_type": "markdown",
   "metadata": {},
   "source": [
    "### 整体确诊概况"
   ]
  },
  {
   "cell_type": "code",
   "execution_count": 3,
   "metadata": {
    "ExecuteTime": {
     "end_time": "2020-05-20T16:13:01.550754Z",
     "start_time": "2020-05-20T16:13:01.504120Z"
    }
   },
   "outputs": [
    {
     "data": {
      "text/html": [
       "<div>\n",
       "<style scoped>\n",
       "    .dataframe tbody tr th:only-of-type {\n",
       "        vertical-align: middle;\n",
       "    }\n",
       "\n",
       "    .dataframe tbody tr th {\n",
       "        vertical-align: top;\n",
       "    }\n",
       "\n",
       "    .dataframe thead th {\n",
       "        text-align: right;\n",
       "    }\n",
       "</style>\n",
       "<table border=\"1\" class=\"dataframe\">\n",
       "  <thead>\n",
       "    <tr style=\"text-align: right;\">\n",
       "      <th></th>\n",
       "      <th>id</th>\n",
       "      <th>lastUpdateTime</th>\n",
       "      <th>name</th>\n",
       "      <th>total_confirm</th>\n",
       "      <th>total_suspect</th>\n",
       "      <th>total_heal</th>\n",
       "      <th>total_dead</th>\n",
       "      <th>total_severe</th>\n",
       "      <th>total_input</th>\n",
       "      <th>today_confirm</th>\n",
       "      <th>today_suspect</th>\n",
       "      <th>today_heal</th>\n",
       "      <th>today_dead</th>\n",
       "      <th>today_severe</th>\n",
       "      <th>today_storeConfirm</th>\n",
       "      <th>today_input</th>\n",
       "      <th>eng_name</th>\n",
       "    </tr>\n",
       "  </thead>\n",
       "  <tbody>\n",
       "    <tr>\n",
       "      <th>0</th>\n",
       "      <td>9577772</td>\n",
       "      <td>2020-06-29 00:02:30</td>\n",
       "      <td>突尼斯</td>\n",
       "      <td>1169</td>\n",
       "      <td>0</td>\n",
       "      <td>1029</td>\n",
       "      <td>50</td>\n",
       "      <td>0</td>\n",
       "      <td>0.0</td>\n",
       "      <td>5.0</td>\n",
       "      <td>NaN</td>\n",
       "      <td>0.0</td>\n",
       "      <td>0.0</td>\n",
       "      <td>NaN</td>\n",
       "      <td>90</td>\n",
       "      <td>NaN</td>\n",
       "      <td>Tunisia</td>\n",
       "    </tr>\n",
       "    <tr>\n",
       "      <th>1</th>\n",
       "      <td>9507896</td>\n",
       "      <td>2020-06-29 00:02:30</td>\n",
       "      <td>塞尔维亚</td>\n",
       "      <td>14046</td>\n",
       "      <td>0</td>\n",
       "      <td>12464</td>\n",
       "      <td>270</td>\n",
       "      <td>0</td>\n",
       "      <td>0.0</td>\n",
       "      <td>254.0</td>\n",
       "      <td>NaN</td>\n",
       "      <td>0.0</td>\n",
       "      <td>0.0</td>\n",
       "      <td>NaN</td>\n",
       "      <td>1312</td>\n",
       "      <td>NaN</td>\n",
       "      <td>Serbia</td>\n",
       "    </tr>\n",
       "    <tr>\n",
       "      <th>2</th>\n",
       "      <td>0</td>\n",
       "      <td>2020-06-29 17:18:23</td>\n",
       "      <td>中国</td>\n",
       "      <td>85208</td>\n",
       "      <td>0</td>\n",
       "      <td>80045</td>\n",
       "      <td>4648</td>\n",
       "      <td>0</td>\n",
       "      <td>1907.0</td>\n",
       "      <td>16.0</td>\n",
       "      <td>NaN</td>\n",
       "      <td>19.0</td>\n",
       "      <td>0.0</td>\n",
       "      <td>NaN</td>\n",
       "      <td>515</td>\n",
       "      <td>5.0</td>\n",
       "      <td>China</td>\n",
       "    </tr>\n",
       "    <tr>\n",
       "      <th>3</th>\n",
       "      <td>1</td>\n",
       "      <td>2020-06-15 07:16:58</td>\n",
       "      <td>日本</td>\n",
       "      <td>18241</td>\n",
       "      <td>0</td>\n",
       "      <td>16298</td>\n",
       "      <td>940</td>\n",
       "      <td>0</td>\n",
       "      <td>0.0</td>\n",
       "      <td>75.0</td>\n",
       "      <td>NaN</td>\n",
       "      <td>63.0</td>\n",
       "      <td>0.0</td>\n",
       "      <td>NaN</td>\n",
       "      <td>1003</td>\n",
       "      <td>0.0</td>\n",
       "      <td>Japan</td>\n",
       "    </tr>\n",
       "    <tr>\n",
       "      <th>4</th>\n",
       "      <td>2</td>\n",
       "      <td>2020-06-29 15:02:48</td>\n",
       "      <td>泰国</td>\n",
       "      <td>3169</td>\n",
       "      <td>0</td>\n",
       "      <td>3053</td>\n",
       "      <td>58</td>\n",
       "      <td>0</td>\n",
       "      <td>0.0</td>\n",
       "      <td>7.0</td>\n",
       "      <td>NaN</td>\n",
       "      <td>0.0</td>\n",
       "      <td>0.0</td>\n",
       "      <td>NaN</td>\n",
       "      <td>58</td>\n",
       "      <td>NaN</td>\n",
       "      <td>Thailand</td>\n",
       "    </tr>\n",
       "  </tbody>\n",
       "</table>\n",
       "</div>"
      ],
      "text/plain": [
       "        id       lastUpdateTime  name  total_confirm  total_suspect  \\\n",
       "0  9577772  2020-06-29 00:02:30   突尼斯           1169              0   \n",
       "1  9507896  2020-06-29 00:02:30  塞尔维亚          14046              0   \n",
       "2        0  2020-06-29 17:18:23    中国          85208              0   \n",
       "3        1  2020-06-15 07:16:58    日本          18241              0   \n",
       "4        2  2020-06-29 15:02:48    泰国           3169              0   \n",
       "\n",
       "   total_heal  total_dead  total_severe  total_input  today_confirm  \\\n",
       "0        1029          50             0          0.0            5.0   \n",
       "1       12464         270             0          0.0          254.0   \n",
       "2       80045        4648             0       1907.0           16.0   \n",
       "3       16298         940             0          0.0           75.0   \n",
       "4        3053          58             0          0.0            7.0   \n",
       "\n",
       "   today_suspect  today_heal  today_dead  today_severe  today_storeConfirm  \\\n",
       "0            NaN         0.0         0.0           NaN                  90   \n",
       "1            NaN         0.0         0.0           NaN                1312   \n",
       "2            NaN        19.0         0.0           NaN                 515   \n",
       "3            NaN        63.0         0.0           NaN                1003   \n",
       "4            NaN         0.0         0.0           NaN                  58   \n",
       "\n",
       "   today_input  eng_name  \n",
       "0          NaN   Tunisia  \n",
       "1          NaN    Serbia  \n",
       "2          5.0     China  \n",
       "3          0.0     Japan  \n",
       "4          NaN  Thailand  "
      ]
     },
     "execution_count": 3,
     "metadata": {},
     "output_type": "execute_result"
    }
   ],
   "source": [
    "###############################################################################\n",
    "####data01\n",
    "##################################################################################\n",
    "#world_data = pd.read_csv('./data/today_world_2020_06_29.csv')\n",
    "world_data = pd.read_csv('./data/' + 'today_world'+'_'+time.strftime('%Y_%m_%d',time.localtime(time.time()))+'.csv')\n",
    "country_name_mapping = pd.read_csv('./data/county_name_mapping.csv',encoding='gbk')\n",
    "# 计算现有确诊\n",
    "world_data['today_storeConfirm'] = world_data['total_confirm'] - world_data['total_heal'] - world_data['total_dead']\n",
    "world_data['eng_name'] = world_data['name'].replace(country_name_mapping['中文'].values \n",
    "                                                    ,country_name_mapping['英文'].values)\n",
    "world_data.head()"
   ]
  },
  {
   "cell_type": "code",
   "execution_count": 4,
   "metadata": {},
   "outputs": [
    {
     "data": {
      "text/plain": [
       "[['Tunisia', 5.0],\n",
       " ['Serbia', 254.0],\n",
       " ['China', 16.0],\n",
       " ['Japan', 75.0],\n",
       " ['Thailand', 7.0],\n",
       " ['Singapore', 202.0],\n",
       " ['Korea', 42.0],\n",
       " ['Australia', 81.0],\n",
       " ['Germany', 209.0],\n",
       " ['United States', 40540.0]]"
      ]
     },
     "execution_count": 4,
     "metadata": {},
     "output_type": "execute_result"
    }
   ],
   "source": [
    "# 获取数据矩阵\n",
    "heatmap_datat = world_data[['eng_name','today_confirm']].values.tolist()\n",
    "heatmap_datat[:10]"
   ]
  },
  {
   "cell_type": "code",
   "execution_count": 6,
   "metadata": {
    "scrolled": true
   },
   "outputs": [
    {
     "name": "stderr",
     "output_type": "stream",
     "text": [
      "D:\\Anaconda\\lib\\site-packages\\pyecharts\\charts\\chart.py:14: PendingDeprecationWarning: pyecharts 所有图表类型将在 v1.9.0 版本开始强制使用 ChartItem 进行数据项配置 :)\n",
      "  super().__init__(init_opts=init_opts)\n"
     ]
    },
    {
     "data": {
      "text/plain": [
       "'C:\\\\Users\\\\admin\\\\maps\\\\world_map_t_2020_06_29.html'"
      ]
     },
     "execution_count": 6,
     "metadata": {},
     "output_type": "execute_result"
    }
   ],
   "source": [
    "world_map = Map().add(series_name = \"累计确诊人数\", \n",
    "                 data_pair = heatmap_datat, \n",
    "                 maptype = \"world\", \n",
    "                 is_map_symbol_show = False)\n",
    "\n",
    "world_map.set_series_opts(label_opts=opts.LabelOpts(is_show=False))  \n",
    "world_map.set_global_opts(title_opts = opts.TitleOpts(title=\"世界各国家累计确诊人数地图\"), # 设置图标题\n",
    "                     visualmap_opts = opts.VisualMapOpts(pieces=[ # 自定义分组的分点和颜色\n",
    "                                                               {\"min\": 50000,\"color\":\"#800000\"}, \n",
    "                                                               {\"min\": 20000, \"max\": 49999, \"color\":\"#B22222\"}, \n",
    "                                                               {\"min\": 10000, \"max\": 19999,\"color\":\"#CD5C5C\"}, \n",
    "                                                               {\"min\": 1000, \"max\": 9999, \"color\":\"#BC8F8F\"}, \n",
    "                                                               {\"max\": 999, \"color\":\"#FFE4E1\"}, \n",
    "                                                              ],\n",
    "                     is_piecewise = True))  # 显示分段式图例\n",
    "#world_map.render_notebook()\n",
    "##########################################################################################################################\n",
    "################map01\n",
    "############################################################################################################################\n",
    "world_map.render('./maps/'+ 'world_map_t' + '_' + time.strftime('%Y_%m_%d',time.localtime(time.time()))+'.html')"
   ]
  },
  {
   "cell_type": "code",
   "execution_count": null,
   "metadata": {
    "ExecuteTime": {
     "end_time": "2020-05-20T16:13:54.868967Z",
     "start_time": "2020-05-20T16:13:54.860810Z"
    }
   },
   "outputs": [],
   "source": [
    "# 获取数据矩阵\n",
    "heatmap_data = world_data[['eng_name','total_confirm']].values.tolist()\n",
    "heatmap_data[:10]"
   ]
  },
  {
   "cell_type": "code",
   "execution_count": null,
   "metadata": {
    "ExecuteTime": {
     "end_time": "2020-05-20T16:17:54.102258Z",
     "start_time": "2020-05-20T16:17:54.085505Z"
    }
   },
   "outputs": [],
   "source": [
    "world_map = Map().add(series_name = \"累计确诊人数\", \n",
    "                 data_pair = heatmap_data, \n",
    "                 maptype = \"world\", \n",
    "                 is_map_symbol_show = False)\n",
    "\n",
    "world_map.set_series_opts(label_opts=opts.LabelOpts(is_show=False))  \n",
    "world_map.set_global_opts(title_opts = opts.TitleOpts(title=\"世界各国家累计确诊人数地图\"), # 设置图标题\n",
    "                     visualmap_opts = opts.VisualMapOpts(pieces=[ # 自定义分组的分点和颜色\n",
    "                                                               {\"min\": 500000,\"color\":\"#800000\"}, \n",
    "                                                               {\"min\": 200000, \"max\": 499999, \"color\":\"#B22222\"}, \n",
    "                                                               {\"min\": 100000, \"max\": 199999,\"color\":\"#CD5C5C\"}, \n",
    "                                                               {\"min\": 10000, \"max\": 99999, \"color\":\"#BC8F8F\"}, \n",
    "                                                               {\"max\": 9999, \"color\":\"#FFE4E1\"}, \n",
    "                                                              ],\n",
    "                     is_piecewise = True))  # 显示分段式图例\n",
    "#world_map.render_notebook()\n",
    "##########################################################################################################################\n",
    "################map01\n",
    "############################################################################################################################\n",
    "world_map.render('./maps/'+ 'world_map' + '_' + time.strftime('%Y_%m_%d',time.localtime(time.time()))+'.html')"
   ]
  },
  {
   "cell_type": "code",
   "execution_count": null,
   "metadata": {
    "ExecuteTime": {
     "end_time": "2020-05-21T16:16:55.075275Z",
     "start_time": "2020-05-21T16:16:55.053594Z"
    }
   },
   "outputs": [],
   "source": [
    "##########################################################################################################################\n",
    "###############date02\n",
    "##########################################################################################################################\n",
    "#china_data = pd.read_csv('./data/today_province_2020_06_29.csv')\n",
    "china_data = pd.read_csv('./data/' + 'today_province'+'_'+time.strftime('%Y_%m_%d',time.localtime(time.time()))+'.csv')\n",
    "china_data.head()"
   ]
  },
  {
   "cell_type": "code",
   "execution_count": null,
   "metadata": {
    "ExecuteTime": {
     "end_time": "2020-05-21T16:18:24.811778Z",
     "start_time": "2020-05-21T16:18:24.779566Z"
    }
   },
   "outputs": [],
   "source": [
    "area_map = Map()\n",
    "area_map.add(\"\",[list(z) for z in zip(list(china_data[\"name\"]), list(china_data[\"total_confirm\"]))], \"china\",is_map_symbol_show=False)\n",
    "area_map.set_global_opts(title_opts=opts.TitleOpts(title=\"国内各省分确诊人数热力图\"),visualmap_opts=opts.VisualMapOpts(is_piecewise=True,\n",
    "                pieces = [\n",
    "                        {\"min\": 10000 , \"label\": '>10000',\"color\": \"#893448\"}, \n",
    "                        {\"min\": 1000, \"max\": 9999, \"label\": '1000-9999',\"color\": \"#ff585e\"},\n",
    "                        {\"min\": 500, \"max\": 999, \"label\": '500-999',\"color\": \"#fb8146\"},\n",
    "                        {\"min\": 100, \"max\": 499, \"label\": '100-499',\"color\": \"#ffb248\"},\n",
    "                        {\"min\": 0, \"max\": 99, \"label\": '0-99',\"color\" : \"#fff2d1\" }]))\n",
    "#area_map.render_notebook()\n",
    "################################################################################################################################\n",
    "################map02\n",
    "############################################################################################################################\n",
    "area_map.render('./maps/'+ 'china_map' + '_' + time.strftime('%Y_%m_%d',time.localtime(time.time()))+'.html')"
   ]
  },
  {
   "cell_type": "markdown",
   "metadata": {},
   "source": [
    "### 病死及治愈情况分析"
   ]
  },
  {
   "cell_type": "code",
   "execution_count": null,
   "metadata": {
    "ExecuteTime": {
     "end_time": "2020-05-21T16:10:55.947959Z",
     "start_time": "2020-05-21T16:10:55.483350Z"
    }
   },
   "outputs": [],
   "source": [
    "# 累计治愈率\n",
    "world_data['heal_rate'] = world_data['total_heal'] / world_data['total_confirm']\n",
    "cond = world_data['total_confirm'] >= 10000\n",
    "sort_data = world_data.loc[cond,['name','heal_rate']]\\\n",
    "    .sort_values(by='heal_rate',ascending=False).head(10)\n",
    "name = sort_data['name'].tolist()\n",
    "heal_rate_ = sort_data['heal_rate'].tolist()\n",
    "heal_rate = []\n",
    "for num in heal_rate_:\n",
    "    heal_rate.append(round(num, 4))"
   ]
  },
  {
   "cell_type": "code",
   "execution_count": null,
   "metadata": {},
   "outputs": [],
   "source": [
    "bar = Bar()\\\n",
    "    .add_xaxis(name)\\\n",
    "    .add_yaxis(\"heal_rate\", heal_rate, color = 'green')\\\n",
    "    .set_global_opts(title_opts=opts.TitleOpts(title='全球治愈率最高的十个国家（或地区）'))\n",
    "################################################################################################################################\n",
    "################map03\n",
    "############################################################################################################################\n",
    "bar.render('./maps/'+ 'bar' + '_' + time.strftime('%Y_%m_%d',time.localtime(time.time()))+'.html')"
   ]
  },
  {
   "cell_type": "code",
   "execution_count": null,
   "metadata": {
    "ExecuteTime": {
     "end_time": "2020-05-20T16:39:10.786665Z",
     "start_time": "2020-05-20T16:39:10.761241Z"
    }
   },
   "outputs": [],
   "source": [
    "dead_count_data = world_data[['name','total_dead']][world_data['total_dead'] >3000]\n",
    "other  = world_data['total_dead'].sum() - \\\n",
    "    world_data.loc[world_data['total_dead'] >3000,'total_dead'].sum()\n",
    "dead_count_data = dead_count_data.append(pd.DataFrame(data=[['其他',other]],columns=['name','total_dead']))\n",
    "rank_data = dead_count_data[['name','total_dead']].sort_values(by='total_dead',ascending=False).values\n",
    "rank_data[:5]"
   ]
  },
  {
   "cell_type": "code",
   "execution_count": null,
   "metadata": {
    "ExecuteTime": {
     "end_time": "2020-05-20T16:43:11.123161Z",
     "start_time": "2020-05-20T16:43:11.113021Z"
    }
   },
   "outputs": [],
   "source": [
    "pie = Pie().add(\"累计死亡人数分布\", # 添加提示框标签\n",
    "                rank_data, # 输入数据\n",
    "                radius = [\"20%\", \"70%\"],  # 设置内半径和外半径\n",
    "                center = [\"60%\", \"60%\"],  # 设置圆心位置\n",
    "                rosetype = \"radius\")   # 玫瑰图模式，通过半径区分数值大小，角度大小表示占比\n",
    "#全局和系列配置信息\n",
    "pie.set_global_opts(title_opts = opts.TitleOpts(title=\"世界国家累计死亡人数玫瑰图\",  # 设置图标题\n",
    "                                                pos_right = '40%'),  # 图标题的位置\n",
    "                    legend_opts = opts.LegendOpts( # 设置图例\n",
    "                                                orient='vertical', # 垂直放置图例\n",
    "                                                pos_right=\"85%\", # 设置图例位置\n",
    "                                                pos_top=\"15%\"))\n",
    "\n",
    "pie.set_series_opts(label_opts = opts.LabelOpts(formatter=\"{b} : {d}%\")) # 设置标签文字形式为（国家：占比（%））\n",
    "\n",
    "#pie.render_notebook()\n",
    "################################################################################################################################\n",
    "################map03\n",
    "############################################################################################################################\n",
    "pie.render('./maps/'+ 'rose' + '_' + time.strftime('%Y_%m_%d',time.localtime(time.time()))+'.html')"
   ]
  },
  {
   "cell_type": "markdown",
   "metadata": {},
   "source": [
    "### 每日新增人数趋势"
   ]
  },
  {
   "cell_type": "code",
   "execution_count": null,
   "metadata": {
    "ExecuteTime": {
     "end_time": "2020-05-20T16:58:05.279697Z",
     "start_time": "2020-05-20T16:58:05.217871Z"
    }
   },
   "outputs": [],
   "source": [
    "##########################################################################################################################\n",
    "###############date03\n",
    "##########################################################################################################################\n",
    "world_all_data = pd.read_csv('./data/' + 'alltime_world' + '_' + time.strftime('%Y_%m_%d',time.localtime(time.time()))+'.csv')\n",
    "#world_all_data = pd.read_csv('./data/alltime_world_2020_06_29.csv')\n",
    "world_all_data.head()"
   ]
  },
  {
   "cell_type": "code",
   "execution_count": null,
   "metadata": {
    "ExecuteTime": {
     "end_time": "2020-05-20T17:11:02.712059Z",
     "start_time": "2020-05-20T17:11:02.696919Z"
    }
   },
   "outputs": [],
   "source": [
    "##########################################################################################################################\n",
    "###############date04\n",
    "##########################################################################################################################\n",
    "cond = world_all_data['date'] >= '2020-06-01'\n",
    "date_list = world_all_data[cond].groupby(['date'])['today_confirm'].sum().index.tolist()\n",
    "today_confirm_list = world_all_data[cond].groupby(['date'])['today_confirm'].sum().values.tolist()\n",
    "today_heal_list = world_all_data[cond].groupby(['date'])['today_heal'].sum().values.tolist()"
   ]
  },
  {
   "cell_type": "code",
   "execution_count": null,
   "metadata": {
    "ExecuteTime": {
     "end_time": "2020-05-20T17:12:28.278089Z",
     "start_time": "2020-05-20T17:12:28.269661Z"
    }
   },
   "outputs": [],
   "source": [
    "line1 = Line()\\\n",
    "        .add_xaxis(date_list)\\\n",
    "        .add_yaxis(\"today_confirm\",today_confirm_list)\\\n",
    "        .add_yaxis(\"today_heal\", today_heal_list)\\\n",
    "        .set_global_opts(title_opts=opts.TitleOpts(title=\"6月新增确诊 VS 新增治愈\"))\n",
    "#line1.render_notebook()\n",
    "################################################################################################################################\n",
    "################map04\n",
    "############################################################################################################################\n",
    "line1.render('./maps/'+ 'line' + '_' + time.strftime('%Y_%m_%d',time.localtime(time.time()))+'.html')"
   ]
  },
  {
   "cell_type": "markdown",
   "metadata": {},
   "source": [
    "### 4月各国确诊人数变化图(动态图"
   ]
  },
  {
   "cell_type": "code",
   "execution_count": null,
   "metadata": {
    "ExecuteTime": {
     "end_time": "2020-05-20T17:34:07.810946Z",
     "start_time": "2020-05-20T17:34:07.798433Z"
    }
   },
   "outputs": [],
   "source": [
    "country_list = ['巴西', '伊朗', '俄罗斯', '土耳其', '德国', '法国', '英国', '意大利', '西班牙', '美国']\n",
    "target_data = world_all_data[world_all_data['name'].isin(country_list)]"
   ]
  },
  {
   "cell_type": "code",
   "execution_count": null,
   "metadata": {
    "ExecuteTime": {
     "end_time": "2020-05-20T17:35:09.648591Z",
     "start_time": "2020-05-20T17:35:09.608267Z"
    }
   },
   "outputs": [],
   "source": [
    "from datetime import datetime,timedelta\n",
    "##########################################################################################################################\n",
    "###############date05\n",
    "##########################################################################################################################\n",
    "time_list = [(datetime(2020, 5, 1) + timedelta(i)).strftime('%Y-%m-%d') for i in range(30)]\n",
    "color_list = ['brown','peru','orange','blue','green',\n",
    "              'red','yellow','teal','pink','orchid']\n",
    "country_color = pd.DataFrame()\n",
    "country_color['country'] = country_list\n",
    "country_color['color'] = color_list"
   ]
  },
  {
   "cell_type": "code",
   "execution_count": null,
   "metadata": {
    "ExecuteTime": {
     "end_time": "2020-05-20T17:36:26.285760Z",
     "start_time": "2020-05-20T17:36:26.273297Z"
    },
    "code_folding": [
     2
    ]
   },
   "outputs": [],
   "source": [
    "import matplotlib.ticker as ticker\n",
    "\n",
    "def barh_draw(day):\n",
    "    \n",
    "    # 提取每一天的数据\n",
    "    draw_data = target_data[target_data['date']==day][['name','total_confirm']].sort_values(by='total_confirm',ascending=True)\n",
    "    \n",
    "    # 清空当前的绘图\n",
    "    ax.clear()\n",
    "    \n",
    "    # 绘制条形图\n",
    "    ax.barh(draw_data['name'],draw_data['total_confirm'], color=[country_color[country_color['country']==i]['color'].values[0] for i in draw_data['name']])\n",
    "    \n",
    "    # 数值标签的间距\n",
    "    dx = draw_data['total_confirm'].max()/200\n",
    "    \n",
    "    # 添加数值标签\n",
    "    for j, (name, value) in enumerate(zip(draw_data['name'], draw_data['total_confirm'])):\n",
    "        \n",
    "        ax.text(value+dx, j, f'{value:,.0f}', size=10, ha='left', va='center')\n",
    "        \n",
    "    # 添加日期标签\n",
    "    ax.text(draw_data['total_confirm'].max()*0.75, 0.4, day, color='#777777',size=40, ha='left')\n",
    "    \n",
    "    # 设置刻度标签的格式\n",
    "    ax.xaxis.set_major_formatter(ticker.StrMethodFormatter('{x:,.0f}'))\n",
    "    \n",
    "    # 设置刻度的位置\n",
    "    ax.xaxis.set_ticks_position('top')\n",
    "\n",
    "    # 设置刻度标签的颜色和大小\n",
    "    ax.tick_params(axis='x',colors='#777777', labelsize=15)\n",
    "    \n",
    "    # 添加网格线\n",
    "    ax.grid(which='major',axis='x',linestyle='-')\n",
    "    \n",
    "    # 添加图标题\n",
    "    ax.text(0, 11, '上个月世界各国家累计确诊人数动态条形图',size=20, ha='left')\n",
    "    \n",
    "    # 去除图边框\n",
    "    plt.box(False)\n",
    "    \n",
    "    plt.rcParams['font.sans-serif']=['SimHei']\n",
    "    \n",
    "    # 关闭绘图框\n",
    "    plt.close()"
   ]
  },
  {
   "cell_type": "code",
   "execution_count": null,
   "metadata": {
    "ExecuteTime": {
     "end_time": "2020-05-20T17:36:36.557563Z",
     "start_time": "2020-05-20T17:36:27.257445Z"
    }
   },
   "outputs": [],
   "source": [
    "# 动态绘图\n",
    "fig, ax = plt.subplots(figsize=(12, 8))\n",
    "\n",
    "import matplotlib.animation as animation\n",
    "from IPython.display import HTML\n",
    "\n",
    "animator = animation.FuncAnimation(fig, barh_draw, frames=time_list, interval=200)\n",
    "################################################################################################################################\n",
    "################map05\n",
    "############################################################################################################################\n",
    "#line1.render('./maps/'+ 'line' + '_' + time.strftime('%Y_%m_%d',time.localtime(time.time()))+'.html')\n",
    "animator.save('d:/ipython/maps/'+ 'bar' + '_' + time.strftime('%Y_%m_%d',time.localtime(time.time()))+'.gif',writer='pillow')\n",
    "print('bar chart save successful')\n",
    "#HTML(animator.to_jshtml())"
   ]
  },
  {
   "cell_type": "code",
   "execution_count": null,
   "metadata": {},
   "outputs": [],
   "source": []
  }
 ],
 "metadata": {
  "kernelspec": {
   "display_name": "Python 3",
   "language": "python",
   "name": "python3"
  },
  "language_info": {
   "codemirror_mode": {
    "name": "ipython",
    "version": 3
   },
   "file_extension": ".py",
   "mimetype": "text/x-python",
   "name": "python",
   "nbconvert_exporter": "python",
   "pygments_lexer": "ipython3",
   "version": "3.7.6"
  },
  "toc": {
   "base_numbering": 1,
   "nav_menu": {},
   "number_sections": true,
   "sideBar": true,
   "skip_h1_title": false,
   "title_cell": "Table of Contents",
   "title_sidebar": "Contents",
   "toc_cell": false,
   "toc_position": {},
   "toc_section_display": true,
   "toc_window_display": false
  },
  "varInspector": {
   "cols": {
    "lenName": 16,
    "lenType": 16,
    "lenVar": 40
   },
   "kernels_config": {
    "python": {
     "delete_cmd_postfix": "",
     "delete_cmd_prefix": "del ",
     "library": "var_list.py",
     "varRefreshCmd": "print(var_dic_list())"
    },
    "r": {
     "delete_cmd_postfix": ") ",
     "delete_cmd_prefix": "rm(",
     "library": "var_list.r",
     "varRefreshCmd": "cat(var_dic_list()) "
    }
   },
   "types_to_exclude": [
    "module",
    "function",
    "builtin_function_or_method",
    "instance",
    "_Feature"
   ],
   "window_display": false
  }
 },
 "nbformat": 4,
 "nbformat_minor": 4
}
